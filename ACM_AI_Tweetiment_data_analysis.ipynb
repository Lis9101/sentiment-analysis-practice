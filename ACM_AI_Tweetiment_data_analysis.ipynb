{
  "metadata": {
    "kernelspec": {
      "language": "python",
      "display_name": "Python 3",
      "name": "python3"
    },
    "language_info": {
      "name": "python",
      "version": "3.10.13",
      "mimetype": "text/x-python",
      "codemirror_mode": {
        "name": "ipython",
        "version": 3
      },
      "pygments_lexer": "ipython3",
      "nbconvert_exporter": "python",
      "file_extension": ".py"
    },
    "kaggle": {
      "accelerator": "none",
      "dataSources": [
        {
          "sourceId": 1808590,
          "sourceType": "datasetVersion",
          "datasetId": 989445
        }
      ],
      "dockerImageVersionId": 30698,
      "isInternetEnabled": false,
      "language": "python",
      "sourceType": "notebook",
      "isGpuEnabled": false
    },
    "colab": {
      "provenance": []
    }
  },
  "nbformat_minor": 0,
  "nbformat": 4,
  "cells": [
    {
      "cell_type": "markdown",
      "source": [
        "The practice is performed following this tutorial: https://www.makeuseof.com/create-sentiment-analysis-model/, which used Trip Advisor Hotel Reviews dataset from Kaggle to build the sentiment analysis model\n",
        "\n",
        "Dataset used to train the model in this practice: https://www.kaggle.com/datasets/kazanova/sentiment140/data, which is the dataset for ACM AI Tweetiment hackathon"
      ],
      "metadata": {
        "id": "A5bmAOGYlEto"
      }
    },
    {
      "cell_type": "code",
      "source": [
        "! pip install tensorflow scikit-learn pandas numpy pickle5"
      ],
      "metadata": {
        "colab": {
          "base_uri": "https://localhost:8080/"
        },
        "id": "g3BKIRx7yaE5",
        "outputId": "44477fce-2c99-4837-d3f0-870a32f58fd3"
      },
      "execution_count": 15,
      "outputs": [
        {
          "output_type": "stream",
          "name": "stdout",
          "text": [
            "Requirement already satisfied: tensorflow in /usr/local/lib/python3.10/dist-packages (2.15.0)\n",
            "Requirement already satisfied: scikit-learn in /usr/local/lib/python3.10/dist-packages (1.2.2)\n",
            "Requirement already satisfied: pandas in /usr/local/lib/python3.10/dist-packages (2.0.3)\n",
            "Requirement already satisfied: numpy in /usr/local/lib/python3.10/dist-packages (1.25.2)\n",
            "Collecting pickle5\n",
            "  Downloading pickle5-0.0.11.tar.gz (132 kB)\n",
            "\u001b[2K     \u001b[90m━━━━━━━━━━━━━━━━━━━━━━━━━━━━━━━━━━━━━━━━\u001b[0m \u001b[32m132.1/132.1 kB\u001b[0m \u001b[31m1.4 MB/s\u001b[0m eta \u001b[36m0:00:00\u001b[0m\n",
            "\u001b[?25h  Preparing metadata (setup.py) ... \u001b[?25l\u001b[?25hdone\n",
            "Requirement already satisfied: absl-py>=1.0.0 in /usr/local/lib/python3.10/dist-packages (from tensorflow) (1.4.0)\n",
            "Requirement already satisfied: astunparse>=1.6.0 in /usr/local/lib/python3.10/dist-packages (from tensorflow) (1.6.3)\n",
            "Requirement already satisfied: flatbuffers>=23.5.26 in /usr/local/lib/python3.10/dist-packages (from tensorflow) (24.3.25)\n",
            "Requirement already satisfied: gast!=0.5.0,!=0.5.1,!=0.5.2,>=0.2.1 in /usr/local/lib/python3.10/dist-packages (from tensorflow) (0.5.4)\n",
            "Requirement already satisfied: google-pasta>=0.1.1 in /usr/local/lib/python3.10/dist-packages (from tensorflow) (0.2.0)\n",
            "Requirement already satisfied: h5py>=2.9.0 in /usr/local/lib/python3.10/dist-packages (from tensorflow) (3.9.0)\n",
            "Requirement already satisfied: libclang>=13.0.0 in /usr/local/lib/python3.10/dist-packages (from tensorflow) (18.1.1)\n",
            "Requirement already satisfied: ml-dtypes~=0.2.0 in /usr/local/lib/python3.10/dist-packages (from tensorflow) (0.2.0)\n",
            "Requirement already satisfied: opt-einsum>=2.3.2 in /usr/local/lib/python3.10/dist-packages (from tensorflow) (3.3.0)\n",
            "Requirement already satisfied: packaging in /usr/local/lib/python3.10/dist-packages (from tensorflow) (24.0)\n",
            "Requirement already satisfied: protobuf!=4.21.0,!=4.21.1,!=4.21.2,!=4.21.3,!=4.21.4,!=4.21.5,<5.0.0dev,>=3.20.3 in /usr/local/lib/python3.10/dist-packages (from tensorflow) (3.20.3)\n",
            "Requirement already satisfied: setuptools in /usr/local/lib/python3.10/dist-packages (from tensorflow) (67.7.2)\n",
            "Requirement already satisfied: six>=1.12.0 in /usr/local/lib/python3.10/dist-packages (from tensorflow) (1.16.0)\n",
            "Requirement already satisfied: termcolor>=1.1.0 in /usr/local/lib/python3.10/dist-packages (from tensorflow) (2.4.0)\n",
            "Requirement already satisfied: typing-extensions>=3.6.6 in /usr/local/lib/python3.10/dist-packages (from tensorflow) (4.11.0)\n",
            "Requirement already satisfied: wrapt<1.15,>=1.11.0 in /usr/local/lib/python3.10/dist-packages (from tensorflow) (1.14.1)\n",
            "Requirement already satisfied: tensorflow-io-gcs-filesystem>=0.23.1 in /usr/local/lib/python3.10/dist-packages (from tensorflow) (0.37.0)\n",
            "Requirement already satisfied: grpcio<2.0,>=1.24.3 in /usr/local/lib/python3.10/dist-packages (from tensorflow) (1.63.0)\n",
            "Requirement already satisfied: tensorboard<2.16,>=2.15 in /usr/local/lib/python3.10/dist-packages (from tensorflow) (2.15.2)\n",
            "Requirement already satisfied: tensorflow-estimator<2.16,>=2.15.0 in /usr/local/lib/python3.10/dist-packages (from tensorflow) (2.15.0)\n",
            "Requirement already satisfied: keras<2.16,>=2.15.0 in /usr/local/lib/python3.10/dist-packages (from tensorflow) (2.15.0)\n",
            "Requirement already satisfied: scipy>=1.3.2 in /usr/local/lib/python3.10/dist-packages (from scikit-learn) (1.11.4)\n",
            "Requirement already satisfied: joblib>=1.1.1 in /usr/local/lib/python3.10/dist-packages (from scikit-learn) (1.4.0)\n",
            "Requirement already satisfied: threadpoolctl>=2.0.0 in /usr/local/lib/python3.10/dist-packages (from scikit-learn) (3.5.0)\n",
            "Requirement already satisfied: python-dateutil>=2.8.2 in /usr/local/lib/python3.10/dist-packages (from pandas) (2.8.2)\n",
            "Requirement already satisfied: pytz>=2020.1 in /usr/local/lib/python3.10/dist-packages (from pandas) (2023.4)\n",
            "Requirement already satisfied: tzdata>=2022.1 in /usr/local/lib/python3.10/dist-packages (from pandas) (2024.1)\n",
            "Requirement already satisfied: wheel<1.0,>=0.23.0 in /usr/local/lib/python3.10/dist-packages (from astunparse>=1.6.0->tensorflow) (0.43.0)\n",
            "Requirement already satisfied: google-auth<3,>=1.6.3 in /usr/local/lib/python3.10/dist-packages (from tensorboard<2.16,>=2.15->tensorflow) (2.27.0)\n",
            "Requirement already satisfied: google-auth-oauthlib<2,>=0.5 in /usr/local/lib/python3.10/dist-packages (from tensorboard<2.16,>=2.15->tensorflow) (1.2.0)\n",
            "Requirement already satisfied: markdown>=2.6.8 in /usr/local/lib/python3.10/dist-packages (from tensorboard<2.16,>=2.15->tensorflow) (3.6)\n",
            "Requirement already satisfied: requests<3,>=2.21.0 in /usr/local/lib/python3.10/dist-packages (from tensorboard<2.16,>=2.15->tensorflow) (2.31.0)\n",
            "Requirement already satisfied: tensorboard-data-server<0.8.0,>=0.7.0 in /usr/local/lib/python3.10/dist-packages (from tensorboard<2.16,>=2.15->tensorflow) (0.7.2)\n",
            "Requirement already satisfied: werkzeug>=1.0.1 in /usr/local/lib/python3.10/dist-packages (from tensorboard<2.16,>=2.15->tensorflow) (3.0.2)\n",
            "Requirement already satisfied: cachetools<6.0,>=2.0.0 in /usr/local/lib/python3.10/dist-packages (from google-auth<3,>=1.6.3->tensorboard<2.16,>=2.15->tensorflow) (5.3.3)\n",
            "Requirement already satisfied: pyasn1-modules>=0.2.1 in /usr/local/lib/python3.10/dist-packages (from google-auth<3,>=1.6.3->tensorboard<2.16,>=2.15->tensorflow) (0.4.0)\n",
            "Requirement already satisfied: rsa<5,>=3.1.4 in /usr/local/lib/python3.10/dist-packages (from google-auth<3,>=1.6.3->tensorboard<2.16,>=2.15->tensorflow) (4.9)\n",
            "Requirement already satisfied: requests-oauthlib>=0.7.0 in /usr/local/lib/python3.10/dist-packages (from google-auth-oauthlib<2,>=0.5->tensorboard<2.16,>=2.15->tensorflow) (1.3.1)\n",
            "Requirement already satisfied: charset-normalizer<4,>=2 in /usr/local/lib/python3.10/dist-packages (from requests<3,>=2.21.0->tensorboard<2.16,>=2.15->tensorflow) (3.3.2)\n",
            "Requirement already satisfied: idna<4,>=2.5 in /usr/local/lib/python3.10/dist-packages (from requests<3,>=2.21.0->tensorboard<2.16,>=2.15->tensorflow) (3.7)\n",
            "Requirement already satisfied: urllib3<3,>=1.21.1 in /usr/local/lib/python3.10/dist-packages (from requests<3,>=2.21.0->tensorboard<2.16,>=2.15->tensorflow) (2.0.7)\n",
            "Requirement already satisfied: certifi>=2017.4.17 in /usr/local/lib/python3.10/dist-packages (from requests<3,>=2.21.0->tensorboard<2.16,>=2.15->tensorflow) (2024.2.2)\n",
            "Requirement already satisfied: MarkupSafe>=2.1.1 in /usr/local/lib/python3.10/dist-packages (from werkzeug>=1.0.1->tensorboard<2.16,>=2.15->tensorflow) (2.1.5)\n",
            "Requirement already satisfied: pyasn1<0.7.0,>=0.4.6 in /usr/local/lib/python3.10/dist-packages (from pyasn1-modules>=0.2.1->google-auth<3,>=1.6.3->tensorboard<2.16,>=2.15->tensorflow) (0.6.0)\n",
            "Requirement already satisfied: oauthlib>=3.0.0 in /usr/local/lib/python3.10/dist-packages (from requests-oauthlib>=0.7.0->google-auth-oauthlib<2,>=0.5->tensorboard<2.16,>=2.15->tensorflow) (3.2.2)\n",
            "Building wheels for collected packages: pickle5\n",
            "  Building wheel for pickle5 (setup.py) ... \u001b[?25l\u001b[?25hdone\n",
            "  Created wheel for pickle5: filename=pickle5-0.0.11-cp310-cp310-linux_x86_64.whl size=255313 sha256=ed069c789a1fb6151f1c0d75068019ba36262681dfbb733cc7a80f6f1524ad93\n",
            "  Stored in directory: /root/.cache/pip/wheels/7d/14/ef/4aab19d27fa8e58772be5c71c16add0426acf9e1f64353235c\n",
            "Successfully built pickle5\n",
            "Installing collected packages: pickle5\n",
            "Successfully installed pickle5-0.0.11\n"
          ]
        }
      ]
    },
    {
      "cell_type": "code",
      "source": [
        "import numpy as np\n",
        "import pandas as pd\n",
        "import tensorflow as tf\n",
        "from sklearn.model_selection import train_test_split\n",
        "from sklearn.metrics import accuracy_score\n",
        "from tensorflow.keras.preprocessing.text import Tokenizer\n",
        "from tensorflow.keras.preprocessing.sequence import pad_sequences\n",
        "from tensorflow.keras.models import Sequential\n",
        "from tensorflow.keras.layers import Embedding, Conv1D, GlobalMaxPooling1D, Dense, Dropout\n",
        "import pickle5 as pickle\n"
      ],
      "metadata": {
        "_uuid": "8f2839f25d086af736a60e9eeb907d3b93b6e0e5",
        "_cell_guid": "b1076dfc-b9ad-4769-8c92-a6c4dae69d19",
        "execution": {
          "iopub.status.busy": "2024-04-26T02:18:12.817562Z",
          "iopub.execute_input": "2024-04-26T02:18:12.817996Z",
          "iopub.status.idle": "2024-04-26T02:18:12.827930Z",
          "shell.execute_reply.started": "2024-04-26T02:18:12.817966Z",
          "shell.execute_reply": "2024-04-26T02:18:12.826427Z"
        },
        "trusted": true,
        "id": "CIZ3OR-jQNMF"
      },
      "execution_count": 16,
      "outputs": []
    },
    {
      "cell_type": "code",
      "source": [
        "from google.colab import drive\n",
        "drive.mount('/content/drive')"
      ],
      "metadata": {
        "id": "7J7lMZq0RVhE",
        "colab": {
          "base_uri": "https://localhost:8080/"
        },
        "outputId": "c32d59b0-bd70-4095-9973-3e20568ba43e"
      },
      "execution_count": 3,
      "outputs": [
        {
          "output_type": "stream",
          "name": "stdout",
          "text": [
            "Mounted at /content/drive\n"
          ]
        }
      ]
    },
    {
      "cell_type": "markdown",
      "source": [
        "## Load data"
      ],
      "metadata": {
        "id": "ioYx64n7QNMI"
      }
    },
    {
      "cell_type": "code",
      "source": [
        "df = pd.read_csv(\"/content/drive/MyDrive/Sentiment Analysis Dataset/tweetiment.csv\", encoding = 'latin',header=None)"
      ],
      "metadata": {
        "execution": {
          "iopub.status.busy": "2024-04-26T02:19:48.104432Z",
          "iopub.execute_input": "2024-04-26T02:19:48.104923Z",
          "iopub.status.idle": "2024-04-26T02:19:48.129703Z",
          "shell.execute_reply.started": "2024-04-26T02:19:48.104892Z",
          "shell.execute_reply": "2024-04-26T02:19:48.128470Z"
        },
        "trusted": true,
        "id": "x0beOt9TQNMK"
      },
      "execution_count": 49,
      "outputs": []
    },
    {
      "cell_type": "code",
      "source": [
        "# Display the first few rows of the dataset\n",
        "print(df.head())"
      ],
      "metadata": {
        "execution": {
          "iopub.status.busy": "2024-04-26T02:19:49.871845Z",
          "iopub.execute_input": "2024-04-26T02:19:49.872291Z",
          "iopub.status.idle": "2024-04-26T02:19:49.885428Z",
          "shell.execute_reply.started": "2024-04-26T02:19:49.872258Z",
          "shell.execute_reply": "2024-04-26T02:19:49.884037Z"
        },
        "trusted": true,
        "id": "lWUJrBMIQNML",
        "colab": {
          "base_uri": "https://localhost:8080/"
        },
        "outputId": "798c6552-bbeb-465f-add4-8a3b963eb1bf"
      },
      "execution_count": 50,
      "outputs": [
        {
          "output_type": "stream",
          "name": "stdout",
          "text": [
            "   0           1                             2         3                4  \\\n",
            "0  0  1467810369  Mon Apr 06 22:19:45 PDT 2009  NO_QUERY  _TheSpecialOne_   \n",
            "1  0  1467810672  Mon Apr 06 22:19:49 PDT 2009  NO_QUERY    scotthamilton   \n",
            "2  0  1467810917  Mon Apr 06 22:19:53 PDT 2009  NO_QUERY         mattycus   \n",
            "3  0  1467811184  Mon Apr 06 22:19:57 PDT 2009  NO_QUERY          ElleCTF   \n",
            "4  0  1467811193  Mon Apr 06 22:19:57 PDT 2009  NO_QUERY           Karoli   \n",
            "\n",
            "                                                   5  \n",
            "0  @switchfoot http://twitpic.com/2y1zl - Awww, t...  \n",
            "1  is upset that he can't update his Facebook by ...  \n",
            "2  @Kenichan I dived many times for the ball. Man...  \n",
            "3    my whole body feels itchy and like its on fire   \n",
            "4  @nationwideclass no, it's not behaving at all....  \n"
          ]
        }
      ]
    },
    {
      "cell_type": "code",
      "source": [
        "# Select only the first and last columns\n",
        "df = df[[5, 0]]\n",
        "df.columns=['tweet', 'sentiment']\n",
        "print(df.head())"
      ],
      "metadata": {
        "execution": {
          "iopub.status.busy": "2024-04-26T02:19:53.465256Z",
          "iopub.execute_input": "2024-04-26T02:19:53.465741Z",
          "iopub.status.idle": "2024-04-26T02:19:53.471774Z",
          "shell.execute_reply.started": "2024-04-26T02:19:53.465706Z",
          "shell.execute_reply": "2024-04-26T02:19:53.470818Z"
        },
        "trusted": true,
        "id": "b_ANW2sdQNML",
        "colab": {
          "base_uri": "https://localhost:8080/"
        },
        "outputId": "39d5c95b-51dd-42b1-e7bc-134f116b75ff"
      },
      "execution_count": 51,
      "outputs": [
        {
          "output_type": "stream",
          "name": "stdout",
          "text": [
            "                                               tweet  sentiment\n",
            "0  @switchfoot http://twitpic.com/2y1zl - Awww, t...          0\n",
            "1  is upset that he can't update his Facebook by ...          0\n",
            "2  @Kenichan I dived many times for the ball. Man...          0\n",
            "3    my whole body feels itchy and like its on fire           0\n",
            "4  @nationwideclass no, it's not behaving at all....          0\n"
          ]
        }
      ]
    },
    {
      "cell_type": "code",
      "source": [
        "sentiment_distribution = df['sentiment'].value_counts()\n",
        "print(sentiment_distribution)"
      ],
      "metadata": {
        "colab": {
          "base_uri": "https://localhost:8080/"
        },
        "id": "6NJJQQQZ1rWz",
        "outputId": "7760bd93-bac2-4c36-cd15-f7e91576d9f0"
      },
      "execution_count": 52,
      "outputs": [
        {
          "output_type": "stream",
          "name": "stdout",
          "text": [
            "sentiment\n",
            "0    800000\n",
            "4    800000\n",
            "Name: count, dtype: int64\n"
          ]
        }
      ]
    },
    {
      "cell_type": "code",
      "source": [
        "# changed label to 0 for negative and 1 for positive\n",
        "df['sentiment'] = df['sentiment'].replace(4,1)\n",
        "df = df.sample(frac=1).reset_index(drop=True)"
      ],
      "metadata": {
        "id": "9gRmRCSl2rmC"
      },
      "execution_count": 53,
      "outputs": []
    },
    {
      "cell_type": "code",
      "source": [
        "# Check for missing values in the 'text' column\n",
        "missing_values= df['tweet'].isnull().sum()\n",
        "print(\"Number of missing values in 'tweet' column of training dataset:\", missing_values)\n",
        "\n",
        "# Drop rows with missing values\n",
        "df = df.dropna(subset=['tweet'])"
      ],
      "metadata": {
        "colab": {
          "base_uri": "https://localhost:8080/"
        },
        "id": "4sjkRmO7xF8t",
        "outputId": "3c455dc5-af8e-479d-a85f-4a5726f1d005"
      },
      "execution_count": 55,
      "outputs": [
        {
          "output_type": "stream",
          "name": "stdout",
          "text": [
            "Number of missing values in 'tweet' column of training dataset: 0\n"
          ]
        }
      ]
    },
    {
      "cell_type": "code",
      "source": [
        "# Tokenization and Padding\n",
        "tokenizer = Tokenizer(num_words=5000, oov_token='<OOV>')\n",
        "tokenizer.fit_on_texts(df['tweet'])\n",
        "word_index = tokenizer.word_index\n",
        "sequences = tokenizer.texts_to_sequences(df['tweet'])\n",
        "padded_sequences = pad_sequences(sequences, maxlen=100, truncating='post')"
      ],
      "metadata": {
        "id": "MIYLEnzRyWIk"
      },
      "execution_count": 56,
      "outputs": []
    },
    {
      "cell_type": "code",
      "source": [
        "# Convert sentiment labels to one-hot encoded vectors\n",
        "sentiment_labels = pd.get_dummies(df['sentiment']).values"
      ],
      "metadata": {
        "id": "JTcmesUEyvWt"
      },
      "execution_count": 57,
      "outputs": []
    },
    {
      "cell_type": "code",
      "source": [
        "# Splitting the dataset into training and testing Sets\n",
        "x_train, x_test, y_train, y_test = train_test_split(padded_sequences, sentiment_labels, test_size=0.2)"
      ],
      "metadata": {
        "id": "LTwZejHYy0Wn"
      },
      "execution_count": 59,
      "outputs": []
    },
    {
      "cell_type": "markdown",
      "source": [
        "## Creating and Training the Neural Network"
      ],
      "metadata": {
        "id": "iWA8om9dozI2"
      }
    },
    {
      "cell_type": "code",
      "source": [
        "# Creating the Neural Network\n",
        "model = Sequential()\n",
        "model.add(Embedding(5000, 100, input_length=100))\n",
        "model.add(Conv1D(64, 5, activation='relu'))\n",
        "model.add(GlobalMaxPooling1D())\n",
        "model.add(Dense(32, activation='relu'))\n",
        "model.add(Dropout(0.5))\n",
        "model.add(Dense(2, activation='softmax'))\n",
        "model.compile(optimizer='adam', loss='categorical_crossentropy', metrics=['accuracy'])\n",
        "model.summary()\n"
      ],
      "metadata": {
        "colab": {
          "base_uri": "https://localhost:8080/"
        },
        "id": "M3JMnGkVzGzp",
        "outputId": "3115f06c-c629-43cc-ad82-a655dce015ce"
      },
      "execution_count": 65,
      "outputs": [
        {
          "output_type": "stream",
          "name": "stdout",
          "text": [
            "Model: \"sequential_3\"\n",
            "_________________________________________________________________\n",
            " Layer (type)                Output Shape              Param #   \n",
            "=================================================================\n",
            " embedding_3 (Embedding)     (None, 100, 100)          500000    \n",
            "                                                                 \n",
            " conv1d_3 (Conv1D)           (None, 96, 64)            32064     \n",
            "                                                                 \n",
            " global_max_pooling1d_3 (Gl  (None, 64)                0         \n",
            " obalMaxPooling1D)                                               \n",
            "                                                                 \n",
            " dense_6 (Dense)             (None, 32)                2080      \n",
            "                                                                 \n",
            " dropout_3 (Dropout)         (None, 32)                0         \n",
            "                                                                 \n",
            " dense_7 (Dense)             (None, 2)                 66        \n",
            "                                                                 \n",
            "=================================================================\n",
            "Total params: 534210 (2.04 MB)\n",
            "Trainable params: 534210 (2.04 MB)\n",
            "Non-trainable params: 0 (0.00 Byte)\n",
            "_________________________________________________________________\n"
          ]
        }
      ]
    },
    {
      "cell_type": "code",
      "source": [
        "# Stop training early if not improving\n",
        "from keras.callbacks import EarlyStopping\n",
        "\n",
        "early_stopping = EarlyStopping(monitor='val_loss', patience=3, restore_best_weights=True)"
      ],
      "metadata": {
        "id": "RHEaWX1V8Rw5"
      },
      "execution_count": 66,
      "outputs": []
    },
    {
      "cell_type": "code",
      "source": [
        "# Training the Neural Network\n",
        "history = model.fit(x_train, y_train, epochs=20, batch_size=32, validation_data=(x_test, y_test), callbacks=[early_stopping])"
      ],
      "metadata": {
        "colab": {
          "base_uri": "https://localhost:8080/"
        },
        "id": "4twDZKzpzWFF",
        "outputId": "f8a2bf98-1c3f-4743-97f4-c4c6d52dd511"
      },
      "execution_count": 76,
      "outputs": [
        {
          "output_type": "stream",
          "name": "stdout",
          "text": [
            "Epoch 1/20\n",
            "40000/40000 [==============================] - 1260s 31ms/step - loss: 0.3718 - accuracy: 0.8365 - val_loss: 0.3994 - val_accuracy: 0.8209\n",
            "Epoch 2/20\n",
            "40000/40000 [==============================] - 1207s 30ms/step - loss: 0.3585 - accuracy: 0.8430 - val_loss: 0.4163 - val_accuracy: 0.8187\n",
            "Epoch 3/20\n",
            "40000/40000 [==============================] - 1215s 30ms/step - loss: 0.3460 - accuracy: 0.8485 - val_loss: 0.4156 - val_accuracy: 0.8170\n",
            "Epoch 4/20\n",
            "40000/40000 [==============================] - 1205s 30ms/step - loss: 0.3339 - accuracy: 0.8540 - val_loss: 0.4234 - val_accuracy: 0.8146\n"
          ]
        }
      ]
    },
    {
      "cell_type": "code",
      "source": [
        "# Loss and accuracy values for training and validation sets\n",
        "train_loss = history.history['loss']\n",
        "val_loss = history.history['val_loss']\n",
        "train_acc = history.history['accuracy']\n",
        "val_acc = history.history['val_accuracy']\n",
        "\n",
        "# Print or visualize the loss and accuracy curves\n",
        "import matplotlib.pyplot as plt\n",
        "\n",
        "epochs = range(1, len(train_loss) + 1)\n",
        "\n",
        "plt.plot(epochs, train_loss, 'b', label='Training loss')\n",
        "plt.plot(epochs, val_loss, 'r', label='Validation loss')\n",
        "plt.title('Training and validation loss')\n",
        "plt.xlabel('Epochs')\n",
        "plt.ylabel('Loss')\n",
        "plt.legend()\n",
        "plt.show()"
      ],
      "metadata": {
        "colab": {
          "base_uri": "https://localhost:8080/",
          "height": 472
        },
        "id": "C4nYOeOtabsC",
        "outputId": "54d68786-07b9-4e7d-9368-e55d832c032f"
      },
      "execution_count": 77,
      "outputs": [
        {
          "output_type": "display_data",
          "data": {
            "text/plain": [
              "<Figure size 640x480 with 1 Axes>"
            ],
            "image/png": "[encoded data removed]"
          },
          "metadata": {}
        }
      ]
    },
    {
      "cell_type": "markdown",
      "source": [
        "Based on the plot, the training loss decreases sharply while the validation loss slowly increases, it indicates that the model is fitting the training data too closely, capturing noise or irrelevant patterns that don't generalize well to new data. Early Stopping stop training when the validation loss starts to increase."
      ],
      "metadata": {
        "id": "rzIHFf9tusxp"
      }
    },
    {
      "cell_type": "code",
      "source": [
        "# Evaluating the Performance of the Trained Model\n",
        "from sklearn.metrics import f1_score\n",
        "\n",
        "y_pred = np.argmax(model.predict(x_test), axis=-1)\n",
        "y_true = np.argmax(y_test, axis=-1)\n",
        "# Calculate accuracy score\n",
        "# Calculate accuracy score\n",
        "print(\"Accuracy:\", accuracy_score(y_true, y_pred))\n",
        "# Calculate F1-score\n",
        "print(\"F1-score:\", f1_score(y_true, y_pred, average='macro'))"
      ],
      "metadata": {
        "colab": {
          "base_uri": "https://localhost:8080/"
        },
        "id": "LlSM7xJ98lV8",
        "outputId": "2a01e65a-bfe7-4578-d95a-0fb82ef664f7"
      },
      "execution_count": 78,
      "outputs": [
        {
          "output_type": "stream",
          "name": "stdout",
          "text": [
            "10000/10000 [==============================] - 98s 10ms/step\n",
            "Accuracy: 0.820946875\n",
            "F1-score: 0.8209446776537175\n"
          ]
        }
      ]
    },
    {
      "cell_type": "code",
      "source": [
        "# Saving the Model\n",
        "model.save('my_tweetiment_analysis_model.h5')\n",
        "with open('tokenizer.pickle', 'wb') as handle:\n",
        "    pickle.dump(tokenizer, handle, protocol=pickle.HIGHEST_PROTOCOL)"
      ],
      "metadata": {
        "colab": {
          "base_uri": "https://localhost:8080/"
        },
        "id": "z6WDRYjs8njS",
        "outputId": "b44ac5cd-9982-4162-9c25-6f73e10f9cba"
      },
      "execution_count": 79,
      "outputs": [
        {
          "output_type": "stream",
          "name": "stderr",
          "text": [
            "/usr/local/lib/python3.10/dist-packages/keras/src/engine/training.py:3103: UserWarning: You are saving your model as an HDF5 file via `model.save()`. This file format is considered legacy. We recommend using instead the native Keras format, e.g. `model.save('my_model.keras')`.\n",
            "  saving_api.save_model(\n"
          ]
        }
      ]
    },
    {
      "cell_type": "markdown",
      "source": [
        "## Using the Model to Classify the Sentiment of Given Text\n",
        "\n"
      ],
      "metadata": {
        "id": "VNiE0pRuwxhE"
      }
    },
    {
      "cell_type": "code",
      "source": [
        "# Load the saved model and tokenizer\n",
        "import keras\n",
        "\n",
        "model = keras.models.load_model('my_tweetiment_analysis_model.h5')\n",
        "with open('tokenizer.pickle', 'rb') as handle:\n",
        "    tokenizer = pickle.load(handle)"
      ],
      "metadata": {
        "id": "BNdwKJbIw4NZ"
      },
      "execution_count": 80,
      "outputs": []
    },
    {
      "cell_type": "code",
      "source": [
        "# Define a function to predict the sentiment of input text\n",
        "def predict_sentiment(text, model, tokenizer):\n",
        "    # Tokenize and pad the input text\n",
        "    text_sequence = tokenizer.texts_to_sequences([text])\n",
        "    text_sequence = pad_sequences(text_sequence, maxlen=100)\n",
        "\n",
        "    # Make a prediction using the trained model\n",
        "    predicted_rating = model.predict(text_sequence)[0]\n",
        "\n",
        "    # Map the predicted sentiment index to its corresponding label\n",
        "    sentiment_mapping = {0: 'negative', 1: 'positive'}\n",
        "    predicted_index = np.argmax(predicted_rating)\n",
        "    predicted_sentiment_label = sentiment_mapping[predicted_index]\n",
        "\n",
        "    return predicted_index, predicted_sentiment_label"
      ],
      "metadata": {
        "id": "m21uTnK9w9D7"
      },
      "execution_count": 81,
      "outputs": []
    },
    {
      "cell_type": "code",
      "source": [
        "positive_texts = [\n",
        "    \"I loved the new book. It's amazing!\",\n",
        "    \"The weather today is beautiful.\",\n",
        "    \"I'm feeling great today.\",\n",
        "    \"I had a fantastic time at the party last night!\",\n",
        "    \"I'm really excited about the upcoming event.\",\n",
        "    \"The customer service was excellent!\",\n",
        "    \"I feel so happy right now.\",\n",
        "    \"The meeting went well.\",\n",
        "    \"The hotel room was clean and comfortable.\",\n",
        "    \"I'm proud of my achievements.\",\n",
        "    \"I'm grateful for all the support I've received.\",\n",
        "    \"Today was a productive day!\",\n",
        "    \"I received some wonderful news today.\",\n",
        "    \"The food at the restaurant was delicious.\",\n",
        "    \"I'm surrounded by amazing friends and family.\",\n",
        "    \"I'm making progress towards my goals.\",\n",
        "    \"I'm enjoying every moment of life.\",\n",
        "    \"I'm filled with optimism about the future.\",\n",
        "    \"I'm thankful for the opportunities I've been given.\",\n",
        "    \"I'm blessed to have such a fulfilling life.\"\n",
        "]\n",
        "print(len(positive_texts))"
      ],
      "metadata": {
        "colab": {
          "base_uri": "https://localhost:8080/"
        },
        "id": "iZBs6Xk70P9b",
        "outputId": "bfe887e2-d3a1-4c45-eb1e-164f487c8710"
      },
      "execution_count": 82,
      "outputs": [
        {
          "output_type": "stream",
          "name": "stdout",
          "text": [
            "20\n"
          ]
        }
      ]
    },
    {
      "cell_type": "code",
      "source": [
        "for text in positive_texts:\n",
        "    predicted_index, predicted_sentiment = predict_sentiment(text, model, tokenizer)\n",
        "    print(\"Text:\", text)\n",
        "    print(\"Predicted Sentiment Index:\", predicted_index)\n",
        "    print(\"Predicted Sentiment Label:\", predicted_sentiment)\n",
        "    print()"
      ],
      "metadata": {
        "colab": {
          "base_uri": "https://localhost:8080/"
        },
        "id": "pmO8SqrJ1QOg",
        "outputId": "a668b38e-2009-4682-8fd5-74dd730d38ab"
      },
      "execution_count": 83,
      "outputs": [
        {
          "output_type": "stream",
          "name": "stdout",
          "text": [
            "1/1 [==============================] - 0s 181ms/step\n",
            "Text: I loved the new book. It's amazing!\n",
            "Predicted Sentiment Index: 1\n",
            "Predicted Sentiment Label: positive\n",
            "\n",
            "1/1 [==============================] - 0s 78ms/step\n",
            "Text: The weather today is beautiful.\n",
            "Predicted Sentiment Index: 1\n",
            "Predicted Sentiment Label: positive\n",
            "\n",
            "1/1 [==============================] - 0s 87ms/step\n",
            "Text: I'm feeling great today.\n",
            "Predicted Sentiment Index: 1\n",
            "Predicted Sentiment Label: positive\n",
            "\n",
            "1/1 [==============================] - 0s 59ms/step\n",
            "Text: I had a fantastic time at the party last night!\n",
            "Predicted Sentiment Index: 1\n",
            "Predicted Sentiment Label: positive\n",
            "\n",
            "1/1 [==============================] - 0s 37ms/step\n",
            "Text: I'm really excited about the upcoming event.\n",
            "Predicted Sentiment Index: 1\n",
            "Predicted Sentiment Label: positive\n",
            "\n",
            "1/1 [==============================] - 0s 44ms/step\n",
            "Text: The customer service was excellent!\n",
            "Predicted Sentiment Index: 1\n",
            "Predicted Sentiment Label: positive\n",
            "\n",
            "1/1 [==============================] - 0s 34ms/step\n",
            "Text: I feel so happy right now.\n",
            "Predicted Sentiment Index: 1\n",
            "Predicted Sentiment Label: positive\n",
            "\n",
            "1/1 [==============================] - 0s 38ms/step\n",
            "Text: The meeting went well.\n",
            "Predicted Sentiment Index: 1\n",
            "Predicted Sentiment Label: positive\n",
            "\n",
            "1/1 [==============================] - 0s 149ms/step\n",
            "Text: The hotel room was clean and comfortable.\n",
            "Predicted Sentiment Index: 1\n",
            "Predicted Sentiment Label: positive\n",
            "\n",
            "1/1 [==============================] - 0s 113ms/step\n",
            "Text: I'm proud of my achievements.\n",
            "Predicted Sentiment Index: 1\n",
            "Predicted Sentiment Label: positive\n",
            "\n",
            "1/1 [==============================] - 0s 29ms/step\n",
            "Text: I'm grateful for all the support I've received.\n",
            "Predicted Sentiment Index: 1\n",
            "Predicted Sentiment Label: positive\n",
            "\n",
            "1/1 [==============================] - 0s 22ms/step\n",
            "Text: Today was a productive day!\n",
            "Predicted Sentiment Index: 1\n",
            "Predicted Sentiment Label: positive\n",
            "\n",
            "1/1 [==============================] - 0s 20ms/step\n",
            "Text: I received some wonderful news today.\n",
            "Predicted Sentiment Index: 1\n",
            "Predicted Sentiment Label: positive\n",
            "\n",
            "1/1 [==============================] - 0s 20ms/step\n",
            "Text: The food at the restaurant was delicious.\n",
            "Predicted Sentiment Index: 1\n",
            "Predicted Sentiment Label: positive\n",
            "\n",
            "1/1 [==============================] - 0s 26ms/step\n",
            "Text: I'm surrounded by amazing friends and family.\n",
            "Predicted Sentiment Index: 1\n",
            "Predicted Sentiment Label: positive\n",
            "\n",
            "1/1 [==============================] - 0s 26ms/step\n",
            "Text: I'm making progress towards my goals.\n",
            "Predicted Sentiment Index: 1\n",
            "Predicted Sentiment Label: positive\n",
            "\n",
            "1/1 [==============================] - 0s 23ms/step\n",
            "Text: I'm enjoying every moment of life.\n",
            "Predicted Sentiment Index: 1\n",
            "Predicted Sentiment Label: positive\n",
            "\n",
            "1/1 [==============================] - 0s 21ms/step\n",
            "Text: I'm filled with optimism about the future.\n",
            "Predicted Sentiment Index: 1\n",
            "Predicted Sentiment Label: positive\n",
            "\n",
            "1/1 [==============================] - 0s 21ms/step\n",
            "Text: I'm thankful for the opportunities I've been given.\n",
            "Predicted Sentiment Index: 1\n",
            "Predicted Sentiment Label: positive\n",
            "\n",
            "1/1 [==============================] - 0s 26ms/step\n",
            "Text: I'm blessed to have such a fulfilling life.\n",
            "Predicted Sentiment Index: 1\n",
            "Predicted Sentiment Label: positive\n",
            "\n"
          ]
        }
      ]
    },
    {
      "cell_type": "code",
      "source": [
        "negative_texts = [\n",
        "    \"The service at the restaurant was terrible.\",\n",
        "    \"The traffic was awful this morning.\",\n",
        "    \"The food tasted awful.\",\n",
        "    \"I'm so disappointed with the product quality.\",\n",
        "    \"The flight got delayed again.\",\n",
        "    \"I can't stand this waiting.\",\n",
        "    \"I'm tired of all this drama.\",\n",
        "    \"I'm annoyed by all the noise outside.\",\n",
        "    \"The internet connection is so slow.\",\n",
        "    \"I'm so frustrated with this project.\",\n",
        "    \"I'm feeling really down today.\",\n",
        "    \"Everything seems to be going wrong.\",\n",
        "    \"I'm overwhelmed with stress.\",\n",
        "    \"I'm not looking forward to tomorrow.\",\n",
        "    \"I'm exhausted from all the work.\",\n",
        "    \"I'm upset about what happened.\",\n",
        "    \"I'm not in the mood for anything.\",\n",
        "    \"I'm disappointed in myself.\",\n",
        "    \"I'm so lonely right now.\",\n",
        "    \"I'm struggling to stay positive.\"\n",
        "]\n",
        "\n",
        "print(len(negative_texts))"
      ],
      "metadata": {
        "colab": {
          "base_uri": "https://localhost:8080/"
        },
        "id": "7WhS_RfyG8bO",
        "outputId": "17e5b38d-7ef1-425c-984e-962a1549e5e0"
      },
      "execution_count": 84,
      "outputs": [
        {
          "output_type": "stream",
          "name": "stdout",
          "text": [
            "20\n"
          ]
        }
      ]
    },
    {
      "cell_type": "code",
      "source": [
        "for text in negative_texts:\n",
        "    predicted_index, predicted_sentiment = predict_sentiment(text, model, tokenizer)\n",
        "    print(\"Text:\", text)\n",
        "    print(\"Predicted Sentiment Index:\", predicted_index)\n",
        "    print(\"Predicted Sentiment Label:\", predicted_sentiment)\n",
        "    print()"
      ],
      "metadata": {
        "colab": {
          "base_uri": "https://localhost:8080/"
        },
        "id": "90uuQDPF1VwD",
        "outputId": "3ca30b1f-2484-4318-f334-c455c909c8fc"
      },
      "execution_count": 85,
      "outputs": [
        {
          "output_type": "stream",
          "name": "stdout",
          "text": [
            "1/1 [==============================] - 0s 22ms/step\n",
            "Text: The service at the restaurant was terrible.\n",
            "Predicted Sentiment Index: 0\n",
            "Predicted Sentiment Label: negative\n",
            "\n",
            "1/1 [==============================] - 0s 24ms/step\n",
            "Text: The traffic was awful this morning.\n",
            "Predicted Sentiment Index: 0\n",
            "Predicted Sentiment Label: negative\n",
            "\n",
            "1/1 [==============================] - 0s 24ms/step\n",
            "Text: The food tasted awful.\n",
            "Predicted Sentiment Index: 0\n",
            "Predicted Sentiment Label: negative\n",
            "\n",
            "1/1 [==============================] - 0s 21ms/step\n",
            "Text: I'm so disappointed with the product quality.\n",
            "Predicted Sentiment Index: 0\n",
            "Predicted Sentiment Label: negative\n",
            "\n",
            "1/1 [==============================] - 0s 24ms/step\n",
            "Text: The flight got delayed again.\n",
            "Predicted Sentiment Index: 0\n",
            "Predicted Sentiment Label: negative\n",
            "\n",
            "1/1 [==============================] - 0s 25ms/step\n",
            "Text: I can't stand this waiting.\n",
            "Predicted Sentiment Index: 0\n",
            "Predicted Sentiment Label: negative\n",
            "\n",
            "1/1 [==============================] - 0s 23ms/step\n",
            "Text: I'm tired of all this drama.\n",
            "Predicted Sentiment Index: 0\n",
            "Predicted Sentiment Label: negative\n",
            "\n",
            "1/1 [==============================] - 0s 26ms/step\n",
            "Text: I'm annoyed by all the noise outside.\n",
            "Predicted Sentiment Index: 0\n",
            "Predicted Sentiment Label: negative\n",
            "\n",
            "1/1 [==============================] - 0s 23ms/step\n",
            "Text: The internet connection is so slow.\n",
            "Predicted Sentiment Index: 0\n",
            "Predicted Sentiment Label: negative\n",
            "\n",
            "1/1 [==============================] - 0s 24ms/step\n",
            "Text: I'm so frustrated with this project.\n",
            "Predicted Sentiment Index: 0\n",
            "Predicted Sentiment Label: negative\n",
            "\n",
            "1/1 [==============================] - 0s 21ms/step\n",
            "Text: I'm feeling really down today.\n",
            "Predicted Sentiment Index: 0\n",
            "Predicted Sentiment Label: negative\n",
            "\n",
            "1/1 [==============================] - 0s 23ms/step\n",
            "Text: Everything seems to be going wrong.\n",
            "Predicted Sentiment Index: 0\n",
            "Predicted Sentiment Label: negative\n",
            "\n",
            "1/1 [==============================] - 0s 30ms/step\n",
            "Text: I'm overwhelmed with stress.\n",
            "Predicted Sentiment Index: 1\n",
            "Predicted Sentiment Label: positive\n",
            "\n",
            "1/1 [==============================] - 0s 22ms/step\n",
            "Text: I'm not looking forward to tomorrow.\n",
            "Predicted Sentiment Index: 0\n",
            "Predicted Sentiment Label: negative\n",
            "\n",
            "1/1 [==============================] - 0s 21ms/step\n",
            "Text: I'm exhausted from all the work.\n",
            "Predicted Sentiment Index: 0\n",
            "Predicted Sentiment Label: negative\n",
            "\n",
            "1/1 [==============================] - 0s 24ms/step\n",
            "Text: I'm upset about what happened.\n",
            "Predicted Sentiment Index: 0\n",
            "Predicted Sentiment Label: negative\n",
            "\n",
            "1/1 [==============================] - 0s 21ms/step\n",
            "Text: I'm not in the mood for anything.\n",
            "Predicted Sentiment Index: 0\n",
            "Predicted Sentiment Label: negative\n",
            "\n",
            "1/1 [==============================] - 0s 21ms/step\n",
            "Text: I'm disappointed in myself.\n",
            "Predicted Sentiment Index: 0\n",
            "Predicted Sentiment Label: negative\n",
            "\n",
            "1/1 [==============================] - 0s 21ms/step\n",
            "Text: I'm so lonely right now.\n",
            "Predicted Sentiment Index: 0\n",
            "Predicted Sentiment Label: negative\n",
            "\n",
            "1/1 [==============================] - 0s 21ms/step\n",
            "Text: I'm struggling to stay positive.\n",
            "Predicted Sentiment Index: 0\n",
            "Predicted Sentiment Label: negative\n",
            "\n"
          ]
        }
      ]
    }
  ]
}